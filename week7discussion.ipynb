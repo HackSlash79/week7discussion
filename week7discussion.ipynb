{
  "nbformat": 4,
  "nbformat_minor": 0,
  "metadata": {
    "colab": {
      "provenance": [],
      "authorship_tag": "ABX9TyMEO7O/sBPwKKq2TdlsEZgB",
      "include_colab_link": true
    },
    "kernelspec": {
      "name": "python3",
      "display_name": "Python 3"
    },
    "language_info": {
      "name": "python"
    }
  },
  "cells": [
    {
      "cell_type": "markdown",
      "metadata": {
        "id": "view-in-github",
        "colab_type": "text"
      },
      "source": [
        "<a href=\"https://colab.research.google.com/github/HackSlash79/week7discussion/blob/main/week7discussion.ipynb\" target=\"_parent\"><img src=\"https://colab.research.google.com/assets/colab-badge.svg\" alt=\"Open In Colab\"/></a>"
      ]
    },
    {
      "cell_type": "markdown",
      "source": [
        "12.1"
      ],
      "metadata": {
        "id": "xmvxKbbo2Dpi"
      }
    },
    {
      "cell_type": "code",
      "source": [
        "import requests\n",
        "response  = requests.get('https://www.python.org')\n",
        "response.content\n",
        "from bs4 import BeautifulSoup\n",
        "soup = BeautifulSoup(response.content, 'html5lib')\n",
        "text = soup.get_text(strip=True)\n",
        "text"
      ],
      "metadata": {
        "id": "BmBmsQc42Flo"
      },
      "execution_count": null,
      "outputs": []
    },
    {
      "cell_type": "markdown",
      "source": [
        "12.2"
      ],
      "metadata": {
        "id": "p_QnmVL23S2o"
      }
    },
    {
      "cell_type": "code",
      "source": [
        "from textblob.blob import WordList\n",
        "from textblob import TextBlob\n",
        "import nltk\n",
        "nltk.download('punkt')\n",
        "nltk.download('averaged_perceptron_tagger')\n",
        "nltk.download('brown')\n",
        "nltk.download('movie_reviews')\n",
        "blob = TextBlob(text)\n",
        "blob.sentences"
      ],
      "metadata": {
        "id": "ifKshz_23T2t"
      },
      "execution_count": null,
      "outputs": []
    },
    {
      "cell_type": "code",
      "source": [
        "blob.words"
      ],
      "metadata": {
        "id": "6DXOiJ1__8kB"
      },
      "execution_count": null,
      "outputs": []
    },
    {
      "cell_type": "code",
      "source": [
        "blob.noun_phrases"
      ],
      "metadata": {
        "id": "K-dBBjktAAAT"
      },
      "execution_count": null,
      "outputs": []
    },
    {
      "cell_type": "markdown",
      "source": [
        "12.3"
      ],
      "metadata": {
        "id": "j3OtcznHAgwi"
      }
    },
    {
      "cell_type": "code",
      "source": [
        "article = requests.get('https://apnews.com/article/technology-china-elections-data-privacy-misinformation-79d5400062cf107771148911ee62f5fb')\n",
        "article.content\n",
        "soup = BeautifulSoup(article.content, 'html5lib')\n",
        "articleText = soup.get_text(strip=True)\n",
        "blob = TextBlob(articleText)\n",
        "blob.sentiment"
      ],
      "metadata": {
        "colab": {
          "base_uri": "https://localhost:8080/"
        },
        "id": "-5jMhKqVAh2h",
        "outputId": "7171ba1f-494b-42e8-a834-e25c495f1bf6"
      },
      "execution_count": 16,
      "outputs": [
        {
          "output_type": "execute_result",
          "data": {
            "text/plain": [
              "Sentiment(polarity=-0.2022387547298034, subjectivity=0.6019795764267587)"
            ]
          },
          "metadata": {},
          "execution_count": 16
        }
      ]
    },
    {
      "cell_type": "code",
      "source": [
        "%precision 3\n",
        "'%.3f'\n",
        "blob.sentiment.polarity"
      ],
      "metadata": {
        "colab": {
          "base_uri": "https://localhost:8080/"
        },
        "id": "5F97uKhQ4hbo",
        "outputId": "9165a248-d190-4c1d-a90e-824e52cddfa4"
      },
      "execution_count": 17,
      "outputs": [
        {
          "output_type": "execute_result",
          "data": {
            "text/plain": [
              "-0.202"
            ]
          },
          "metadata": {},
          "execution_count": 17
        }
      ]
    },
    {
      "cell_type": "code",
      "source": [
        "blob.sentiment.subjectivity"
      ],
      "metadata": {
        "colab": {
          "base_uri": "https://localhost:8080/"
        },
        "id": "1O--N8MA4waT",
        "outputId": "98230694-c265-44b1-8735-ac409cb4120b"
      },
      "execution_count": 18,
      "outputs": [
        {
          "output_type": "execute_result",
          "data": {
            "text/plain": [
              "0.602"
            ]
          },
          "metadata": {},
          "execution_count": 18
        }
      ]
    },
    {
      "cell_type": "markdown",
      "source": [
        "12.4"
      ],
      "metadata": {
        "id": "2fnPHPby5JtL"
      }
    },
    {
      "cell_type": "code",
      "source": [
        "from textblob.sentiments import NaiveBayesAnalyzer\n",
        "blob = TextBlob(articleText, analyzer=NaiveBayesAnalyzer())\n",
        "blob.sentiment"
      ],
      "metadata": {
        "colab": {
          "base_uri": "https://localhost:8080/"
        },
        "id": "MyGZ-b025LAn",
        "outputId": "478f7a59-c086-4a79-b44b-0f97322c2e6c"
      },
      "execution_count": 22,
      "outputs": [
        {
          "output_type": "execute_result",
          "data": {
            "text/plain": [
              "Sentiment(classification='pos', p_pos=1.0, p_neg=1.8336845565398636e-84)"
            ]
          },
          "metadata": {},
          "execution_count": 22
        }
      ]
    },
    {
      "cell_type": "markdown",
      "source": [
        "Classfied as positive"
      ],
      "metadata": {
        "id": "T8YjODJn8n7Q"
      }
    }
  ]
}